{
 "cells": [
  {
   "cell_type": "code",
   "execution_count": 1,
   "id": "cdd9b0fd-c7ea-443d-b63a-a8417b9cd6c0",
   "metadata": {},
   "outputs": [],
   "source": [
    "import sympy as sym\n",
    "import numpy as np\n",
    "from tqdm import tqdm"
   ]
  },
  {
   "cell_type": "code",
   "execution_count": 2,
   "id": "8c71c8f3-49d0-4766-b415-81d184c03792",
   "metadata": {},
   "outputs": [],
   "source": [
    "# define parameters\n",
    "P = {\n",
    "    'a=0': sym.symbols('p_1'),\n",
    "    'b=0|a=0': sym.symbols('p_2'),\n",
    "    'b=0|a=1': sym.symbols('p_3'),\n",
    "    'c=0|b=0': sym.symbols('p_4'),\n",
    "    'c=0|b=1': sym.symbols('p_5')\n",
    "} "
   ]
  },
  {
   "cell_type": "code",
   "execution_count": 3,
   "id": "2f22d290-d53f-43c2-9d9b-3ea3873cb17e",
   "metadata": {},
   "outputs": [],
   "source": [
    "# define all marginal proba\n",
    "Margins = {\n",
    "    'a=0': P['a=0'],\n",
    "    'a=1': 1 - P['a=0']\n",
    "} \n",
    "\n",
    "Margins['b=0'] = P['b=0|a=0']*Margins['a=0'] + P['b=0|a=1']*Margins['a=1']\n",
    "Margins['b=1'] = 1 - Margins['b=0']\n",
    "Margins['c=0'] = P['c=0|b=0']*Margins['b=0'] + P['c=0|b=1']*Margins['b=1']\n",
    "Margins['c=1'] = 1 - Margins['c=0']"
   ]
  },
  {
   "cell_type": "code",
   "execution_count": 4,
   "id": "f7c0e4be-e11a-436b-8873-082e116cafe7",
   "metadata": {},
   "outputs": [],
   "source": [
    "Joint_proba = {\n",
    "    'a=0,b=0': P['b=0|a=0'] * P['a=0'],\n",
    "    'a=1,b=1': (1 - P['b=0|a=1']) * Margins['a=1'],\n",
    "    'b=0,c=0': P['c=0|b=0'] * Margins['b=0'],\n",
    "    'b=1,c=1': (1 - P['c=0|b=1']) * Margins['b=1'],\n",
    "    'a=0,b=0,c=0': P['a=0']*P['b=0|a=0']*P['c=0|b=0'],\n",
    "    'a=1,b=1,c=1': (1-P['a=0'])*(1-P['b=0|a=1'])*(1-P['c=0|b=1'])\n",
    "}\n",
    "BN_estimations = {\n",
    "    'a=b': Joint_proba['a=0,b=0'] + Joint_proba['a=1,b=1'],\n",
    "    'b=c': Joint_proba['b=0,c=0'] + Joint_proba['b=1,c=1'],\n",
    "    'a=b=c': Joint_proba['a=0,b=0,c=0'] + Joint_proba['a=1,b=1,c=1'],\n",
    "}"
   ]
  },
  {
   "cell_type": "code",
   "execution_count": 5,
   "id": "57c44cc7-58ac-4b7c-9551-de2350f67dc6",
   "metadata": {},
   "outputs": [],
   "source": [
    "# Simulate the estimation with independent assumption\n",
    "Independent_estiamtions = {\n",
    "    'a=b': Margins['b=0'] * Margins['a=0'] + Margins['b=1'] * Margins['a=1'],\n",
    "    'b=c': Margins['b=0'] * Margins['c=0'] + Margins['b=1'] * Margins['c=1'],   \n",
    "    'a=b=c': Margins['a=0'] * Margins['b=0'] * Margins['c=0'] + Margins['a=1'] * Margins['b=1'] * Margins['c=1']\n",
    "}"
   ]
  },
  {
   "cell_type": "code",
   "execution_count": 6,
   "id": "7d2dcf2d-4381-47fa-a3f2-aa71a2fdd6f2",
   "metadata": {},
   "outputs": [
    {
     "name": "stdout",
     "output_type": "stream",
     "text": [
      "For query P(a=b)\n",
      "\tBN_est = 0.76, Indep_est = 0.47\n",
      "For query P(b=c)\n",
      "\tBN_est = 0.86, Indep_est = 0.54\n",
      "For query P(a=b=c)\n",
      "\tBN_est = 0.65, Indep_est = 0.24\n"
     ]
    }
   ],
   "source": [
    "values = {'p_1': 0.6, 'p_2': 0.6, 'p_3': 0, 'p_4': 0.8, 'p_5': 0.1,}\n",
    "for q in BN_estimations:\n",
    "    BN_est = BN_estimations[q].evalf(subs=values)\n",
    "    avi_est = Independent_estiamtions[q].evalf(subs=values)\n",
    "    print(f\"For query P({q})\")\n",
    "    print(f\"\\tBN_est = {BN_est:.2f}, Indep_est = {avi_est:.2f}\")    "
   ]
  },
  {
   "cell_type": "code",
   "execution_count": 12,
   "id": "7fcf6112-8dca-4399-9ee8-af71c35eff71",
   "metadata": {},
   "outputs": [
    {
     "name": "stdout",
     "output_type": "stream",
     "text": [
      "100.0/100 are underestimations\n"
     ]
    }
   ],
   "source": [
    "# with dependency/correlation\n",
    "repeat = 100\n",
    "under_est_cnt = 0\n",
    "for r in range(repeat):\n",
    "    for q in BN_estimations:\n",
    "        r = np.random.rand(5)\n",
    "        values['p_1'] = r[0]\n",
    "        values['p_2'] = r[1] if r[1] >= 0.5 else 1-r[1]\n",
    "        values['p_3'] = r[2] if r[2] <= 0.5 else 1-r[2]\n",
    "        values['p_4'] = r[3] if r[3] >= 0.5 else 1-r[3]\n",
    "        values['p_5'] = r[4] if r[4] <= 0.5 else 1-r[4]\n",
    "        BN_est = BN_estimations[q].evalf(subs=values)\n",
    "        avi_est = Independent_estiamtions[q].evalf(subs=values)\n",
    "        under_est_cnt += (1 if avi_est < BN_est else 0)\n",
    "print(f\"{under_est_cnt/3}/{repeat} are underestimations\")"
   ]
  },
  {
   "cell_type": "code",
   "execution_count": null,
   "id": "64a1ec0e-92d5-4dbc-9594-684f54821d39",
   "metadata": {},
   "outputs": [],
   "source": []
  }
 ],
 "metadata": {
  "kernelspec": {
   "display_name": "Python 3 (ipykernel)",
   "language": "python",
   "name": "python3"
  },
  "language_info": {
   "codemirror_mode": {
    "name": "ipython",
    "version": 3
   },
   "file_extension": ".py",
   "mimetype": "text/x-python",
   "name": "python",
   "nbconvert_exporter": "python",
   "pygments_lexer": "ipython3",
   "version": "3.8.10"
  }
 },
 "nbformat": 4,
 "nbformat_minor": 5
}

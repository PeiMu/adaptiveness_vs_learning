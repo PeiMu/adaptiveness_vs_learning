{
 "cells": [
  {
   "cell_type": "code",
   "execution_count": null,
   "id": "75cc9d00",
   "metadata": {
    "tags": []
   },
   "outputs": [],
   "source": [
    "%load_ext autoreload\n",
    "%autoreload 2"
   ]
  },
  {
   "cell_type": "code",
   "execution_count": null,
   "id": "058c55c7-3486-4384-bbf5-c00a9b3c9629",
   "metadata": {
    "tags": []
   },
   "outputs": [],
   "source": [
    "PATH = '/mnt/adaptiveness_vs_learning/runtime_eval/'\n",
    "import sys\n",
    "sys.path.append(PATH)\n",
    "from core.eval_Runtime import *"
   ]
  },
  {
   "cell_type": "code",
   "execution_count": null,
   "id": "238e25c9",
   "metadata": {},
   "outputs": [],
   "source": [
    "query_dirs = {\n",
    "    'imdb': '/mnt/adaptiveness_vs_learning/queries/job/'\n",
    "}\n",
    "\n",
    "job_slow_queries = [\n",
    "    '6d.sql', \n",
    "    '6f.sql', \n",
    "    '8c.sql', '9d.sql', \n",
    "    '10c.sql', \n",
    "    '16b.sql', \n",
    "    '17a.sql', '17b.sql',  \n",
    "    '17c.sql', \n",
    "    '17d.sql',  \n",
    "    '17e.sql', \n",
    "    '17f.sql',  \n",
    "    '18c.sql', '19c.sql', '19d.sql', \n",
    "    '20a.sql', \n",
    "    '25c.sql', '26c.sql', \n",
    "    '30a.sql'\n",
    "]\n",
    "\n",
    "all_JOB_queries = [\n",
    "    '30a.sql', '1d.sql', '25a.sql', '6b.sql', '19c.sql', '28b.sql', \n",
    "    '9b.sql', '33b.sql', '32a.sql', '27a.sql', '20b.sql', '17d.sql', \n",
    "    '16b.sql', '10b.sql', '6a.sql', '17b.sql', '25b.sql', '8b.sql', \n",
    "    '31b.sql', '33c.sql', '23a.sql', '15a.sql', '21b.sql', '11d.sql', \n",
    "    '9a.sql', '6d.sql', '24a.sql', '17e.sql', '19a.sql', '1c.sql', \n",
    "    '25c.sql', '31a.sql', '23c.sql', '17f.sql', '19b.sql', '9d.sql', \n",
    "    '27b.sql', '11b.sql', '7b.sql', '19d.sql', '1a.sql', '11c.sql', \n",
    "    '31c.sql', '28a.sql', '3c.sql', '6c.sql', '26b.sql', '16a.sql', \n",
    "    '7a.sql', '29b.sql', '29a.sql', '1b.sql', '6e.sql', '13d.sql', \n",
    "    '10c.sql', '26a.sql', '4b.sql', '10a.sql', '15b.sql', '15d.sql', \n",
    "    '26c.sql', '14b.sql', '15c.sql', '14c.sql', '13b.sql', '3a.sql', \n",
    "    '24b.sql', '5a.sql', '8c.sql', '6f.sql', '8a.sql', '27c.sql', \n",
    "    '12a.sql', '22a.sql', '17a.sql', '13a.sql', '21a.sql', '12b.sql', \n",
    "    '13c.sql', '8d.sql', '21c.sql', '7c.sql', '2a.sql', '3b.sql', \n",
    "    '16c.sql', '9c.sql', '32b.sql', '28c.sql', '33a.sql', '11a.sql', \n",
    "    '18a.sql', '5c.sql', '22d.sql', '18c.sql', '5b.sql', '2c.sql', \n",
    "    '16d.sql', '4a.sql', '22c.sql', '12c.sql', '29c.sql', '30b.sql', \n",
    "    '2d.sql', '14a.sql', '17c.sql', '22b.sql', '30c.sql', '20a.sql', \n",
    "    '20c.sql', '2b.sql', '4c.sql', '18b.sql', '23b.sql'\n",
    "]"
   ]
  },
  {
   "cell_type": "code",
   "execution_count": null,
   "id": "a73bab25",
   "metadata": {},
   "outputs": [],
   "source": []
  },
  {
   "cell_type": "markdown",
   "id": "43db3a22",
   "metadata": {},
   "source": [
    "## PG original"
   ]
  },
  {
   "cell_type": "code",
   "execution_count": null,
   "id": "3c28e9e8",
   "metadata": {
    "tags": []
   },
   "outputs": [],
   "source": [
    "engine_name = 'postgres'\n",
    "# db_name = 'imdb'\n",
    "db_name = 'imdbload'\n",
    "query_dir = query_dirs['imdb']\n",
    "\n",
    "pg_db = DB_instance(engine_name, db_name)\n",
    "pg_ev = Runtime_Evaluator(pg_db, query_dir)\n",
    "pg_ev.evaluate_queries(sql_dir=query_dir,\n",
    "                       sql_files=all_JOB_queries,\n",
    "                       save_json_file=f'./{engine_name}_parallel=1_{db_name}_runtimes.json', \n",
    "                      rerun_finished=False,\n",
    "                      disable_parallel=False,\n",
    "                      multiple_runs=5,\n",
    "                      save_plan=False)"
   ]
  },
  {
   "cell_type": "markdown",
   "id": "758809e3",
   "metadata": {},
   "source": [
    "# PG with LIP+AJA "
   ]
  },
  {
   "cell_type": "code",
   "execution_count": null,
   "id": "f9cf9641",
   "metadata": {},
   "outputs": [],
   "source": [
    "engine_name = 'postgres_pg_lip'\n",
    "db_name = 'imdbload'\n",
    "query_dir = '/mnt/adaptiveness_vs_learning/queries/job/LIP+AJA/job_slow/'\n",
    "init_sql_file= '/mnt/adaptiveness_vs_learning/queries/lip_bloom_init.sql'\n",
    "\n",
    "pg_db = DB_instance(engine_name, db_name)\n",
    "pg_ev = PG_LIP_Runtime_Evaluator(pg_db, query_dir, init_sql_file=init_sql_file)\n",
    "pg_ev.evaluate_queries(\n",
    "    sql_dir=query_dir,\n",
    "    save_json_file=f'./{engine_name}_LIP+AJA_{db_name}_runtimes.json', \n",
    "    sql_files=job_slow_queries,\n",
    "    rerun_finished=False,\n",
    "    multiple_runs=5, \n",
    "    save_plan=False\n",
    ")"
   ]
  },
  {
   "cell_type": "code",
   "execution_count": null,
   "id": "4f182e1c",
   "metadata": {},
   "outputs": [],
   "source": []
  }
 ],
 "metadata": {
  "kernelspec": {
   "display_name": "Python 3 (ipykernel)",
   "language": "python",
   "name": "python3"
  },
  "language_info": {
   "codemirror_mode": {
    "name": "ipython",
    "version": 3
   },
   "file_extension": ".py",
   "mimetype": "text/x-python",
   "name": "python",
   "nbconvert_exporter": "python",
   "pygments_lexer": "ipython3",
   "version": "3.7.16"
  },
  "vscode": {
   "interpreter": {
    "hash": "7812ea015bdcee6f23a998adcdd2ef97c151c0c241b7b7070987d9313e41299d"
   }
  }
 },
 "nbformat": 4,
 "nbformat_minor": 5
}

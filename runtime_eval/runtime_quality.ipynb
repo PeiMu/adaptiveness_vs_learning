{
 "cells": [
  {
   "cell_type": "code",
   "execution_count": 1,
   "id": "91dbeff7-ec16-41c5-ad23-0c40742f226c",
   "metadata": {
    "tags": []
   },
   "outputs": [
    {
     "data": {
      "text/html": [
       "<details>\n",
       "<summary>Click to view session information</summary>\n",
       "<pre>\n",
       "-----\n",
       "session_info        1.0.0\n",
       "-----\n",
       "</pre>\n",
       "<details>\n",
       "<summary>Click to view modules imported as dependencies</summary>\n",
       "<pre>\n",
       "asttokens                   NA\n",
       "backcall                    0.2.0\n",
       "comm                        0.1.2\n",
       "cython_runtime              NA\n",
       "dateutil                    2.8.2\n",
       "debugpy                     1.5.1\n",
       "decorator                   5.1.1\n",
       "executing                   0.8.3\n",
       "ipykernel                   6.19.2\n",
       "jedi                        0.18.1\n",
       "mpl_toolkits                NA\n",
       "packaging                   23.0\n",
       "parso                       0.8.3\n",
       "pexpect                     4.8.0\n",
       "pickleshare                 0.7.5\n",
       "pkg_resources               NA\n",
       "platformdirs                2.5.2\n",
       "prompt_toolkit              3.0.36\n",
       "psutil                      5.9.0\n",
       "ptyprocess                  0.7.0\n",
       "pure_eval                   0.2.2\n",
       "pydev_ipython               NA\n",
       "pydevconsole                NA\n",
       "pydevd                      2.6.0\n",
       "pydevd_concurrency_analyser NA\n",
       "pydevd_file_utils           NA\n",
       "pydevd_plugins              NA\n",
       "pydevd_tracing              NA\n",
       "pygments                    2.15.1\n",
       "six                         1.16.0\n",
       "stack_data                  0.2.0\n",
       "tornado                     6.2\n",
       "traitlets                   5.7.1\n",
       "wcwidth                     0.2.5\n",
       "zmq                         25.0.2\n",
       "</pre>\n",
       "</details> <!-- seems like this ends pre, so might as well be explicit -->\n",
       "<pre>\n",
       "-----\n",
       "IPython             8.12.0\n",
       "jupyter_client      8.1.0\n",
       "jupyter_core        5.3.0\n",
       "-----\n",
       "Python 3.11.3 (main, Apr 19 2023, 23:54:32) [GCC 11.2.0]\n",
       "Linux-3.10.0-1160.88.1.el7.x86_64-x86_64-with-glibc2.31\n",
       "-----\n",
       "Session information updated at 2023-05-23 22:23\n",
       "</pre>\n",
       "</details>"
      ],
      "text/plain": [
       "<IPython.core.display.HTML object>"
      ]
     },
     "execution_count": 1,
     "metadata": {},
     "output_type": "execute_result"
    }
   ],
   "source": [
    "import session_info\n",
    "session_info.show()"
   ]
  },
  {
   "cell_type": "code",
   "execution_count": null,
   "id": "c68fd718-4cd3-4f62-9063-079b558c55c8",
   "metadata": {},
   "outputs": [],
   "source": []
  },
  {
   "cell_type": "code",
   "execution_count": 4,
   "id": "b7c047fa-7996-432e-8152-7808b7e8529b",
   "metadata": {
    "tags": []
   },
   "outputs": [
    {
     "name": "stdout",
     "output_type": "stream",
     "text": [
      "Requirement already satisfied: pyodbc in /root/miniconda3/envs/balsa/lib/python3.7/site-packages (4.0.35)\n",
      "\u001b[33mWARNING: Running pip as the 'root' user can result in broken permissions and conflicting behaviour with the system package manager. It is recommended to use a virtual environment instead: https://pip.pypa.io/warnings/venv\u001b[0m\u001b[33m\n",
      "\u001b[0m"
     ]
    }
   ],
   "source": [
    "!pip install pyodbc"
   ]
  },
  {
   "cell_type": "code",
   "execution_count": 1,
   "id": "75cc9d00",
   "metadata": {
    "tags": []
   },
   "outputs": [],
   "source": [
    "%load_ext autoreload\n",
    "%autoreload 2"
   ]
  },
  {
   "cell_type": "code",
   "execution_count": 3,
   "id": "058c55c7-3486-4384-bbf5-c00a9b3c9629",
   "metadata": {
    "tags": []
   },
   "outputs": [
    {
     "ename": "ImportError",
     "evalue": "libpq.so.5: cannot open shared object file: No such file or directory",
     "output_type": "error",
     "traceback": [
      "\u001b[0;31m---------------------------------------------------------------------------\u001b[0m",
      "\u001b[0;31mImportError\u001b[0m                               Traceback (most recent call last)",
      "Cell \u001b[0;32mIn[3], line 4\u001b[0m\n\u001b[1;32m      2\u001b[0m \u001b[38;5;28;01mimport\u001b[39;00m \u001b[38;5;21;01msys\u001b[39;00m\n\u001b[1;32m      3\u001b[0m sys\u001b[38;5;241m.\u001b[39mpath\u001b[38;5;241m.\u001b[39mappend(PATH)\n\u001b[0;32m----> 4\u001b[0m \u001b[38;5;28;01mfrom\u001b[39;00m \u001b[38;5;21;01mcore\u001b[39;00m\u001b[38;5;21;01m.\u001b[39;00m\u001b[38;5;21;01meval_Runtime\u001b[39;00m \u001b[38;5;28;01mimport\u001b[39;00m \u001b[38;5;241m*\u001b[39m\n",
      "File \u001b[0;32m/mnt/adaptiveness_vs_learning/runtime_eval/core/eval_Runtime.py:1\u001b[0m\n\u001b[0;32m----> 1\u001b[0m \u001b[38;5;28;01mfrom\u001b[39;00m \u001b[38;5;21;01mcore\u001b[39;00m\u001b[38;5;21;01m.\u001b[39;00m\u001b[38;5;21;01mDB_connector\u001b[39;00m \u001b[38;5;28;01mimport\u001b[39;00m \u001b[38;5;241m*\u001b[39m\n\u001b[1;32m      2\u001b[0m \u001b[38;5;28;01mimport\u001b[39;00m \u001b[38;5;21;01mos\u001b[39;00m\n\u001b[1;32m      3\u001b[0m \u001b[38;5;28;01mimport\u001b[39;00m \u001b[38;5;21;01mtime\u001b[39;00m\n",
      "File \u001b[0;32m/mnt/adaptiveness_vs_learning/runtime_eval/core/DB_connector.py:6\u001b[0m\n\u001b[1;32m      4\u001b[0m \u001b[38;5;28;01mimport\u001b[39;00m \u001b[38;5;21;01msubprocess\u001b[39;00m\n\u001b[1;32m      5\u001b[0m \u001b[38;5;28;01mfrom\u001b[39;00m \u001b[38;5;21;01mthreading\u001b[39;00m \u001b[38;5;28;01mimport\u001b[39;00m Timer\n\u001b[0;32m----> 6\u001b[0m \u001b[38;5;28;01mfrom\u001b[39;00m \u001b[38;5;21;01mcore\u001b[39;00m\u001b[38;5;21;01m.\u001b[39;00m\u001b[38;5;21;01mcardinality_estimation_quality\u001b[39;00m\u001b[38;5;21;01m.\u001b[39;00m\u001b[38;5;21;01mcardinality_estimation_quality\u001b[39;00m \u001b[38;5;28;01mimport\u001b[39;00m \u001b[38;5;241m*\u001b[39m\n\u001b[1;32m      7\u001b[0m \u001b[38;5;28;01mimport\u001b[39;00m \u001b[38;5;21;01mnumpy\u001b[39;00m \u001b[38;5;28;01mas\u001b[39;00m \u001b[38;5;21;01mnp\u001b[39;00m\n\u001b[1;32m      8\u001b[0m \u001b[38;5;28;01mimport\u001b[39;00m \u001b[38;5;21;01mpandas\u001b[39;00m \u001b[38;5;28;01mas\u001b[39;00m \u001b[38;5;21;01mpd\u001b[39;00m\n",
      "File \u001b[0;32m/mnt/adaptiveness_vs_learning/runtime_eval/core/cardinality_estimation_quality/cardinality_estimation_quality.py:12\u001b[0m\n\u001b[1;32m     10\u001b[0m \u001b[38;5;28;01mimport\u001b[39;00m \u001b[38;5;21;01msys\u001b[39;00m\n\u001b[1;32m     11\u001b[0m \u001b[38;5;28;01mimport\u001b[39;00m \u001b[38;5;21;01mseaborn\u001b[39;00m\n\u001b[0;32m---> 12\u001b[0m \u001b[38;5;28;01mimport\u001b[39;00m \u001b[38;5;21;01mpsycopg2\u001b[39;00m\u001b[38;5;21;01m.\u001b[39;00m\u001b[38;5;21;01mextras\u001b[39;00m\n\u001b[1;32m     13\u001b[0m \u001b[38;5;28;01mimport\u001b[39;00m \u001b[38;5;21;01mpsycopg2\u001b[39;00m\n\u001b[1;32m     14\u001b[0m \u001b[38;5;28;01mimport\u001b[39;00m \u001b[38;5;21;01mpickle\u001b[39;00m\n",
      "File \u001b[0;32m~/miniconda3/envs/tableqa/lib/python3.11/site-packages/psycopg2/__init__.py:51\u001b[0m\n\u001b[1;32m      1\u001b[0m \u001b[38;5;124;03m\"\"\"A Python driver for PostgreSQL\u001b[39;00m\n\u001b[1;32m      2\u001b[0m \n\u001b[1;32m      3\u001b[0m \u001b[38;5;124;03mpsycopg is a PostgreSQL_ database adapter for the Python_ programming\u001b[39;00m\n\u001b[0;32m   (...)\u001b[0m\n\u001b[1;32m     17\u001b[0m \u001b[38;5;124;03m    TimeFromTicks, Timestamp, TimestampFromTicks\u001b[39;00m\n\u001b[1;32m     18\u001b[0m \u001b[38;5;124;03m\"\"\"\u001b[39;00m\n\u001b[1;32m     19\u001b[0m \u001b[38;5;66;03m# psycopg/__init__.py - initialization of the psycopg module\u001b[39;00m\n\u001b[1;32m     20\u001b[0m \u001b[38;5;66;03m#\u001b[39;00m\n\u001b[1;32m     21\u001b[0m \u001b[38;5;66;03m# Copyright (C) 2003-2019 Federico Di Gregorio  <fog@debian.org>\u001b[39;00m\n\u001b[0;32m   (...)\u001b[0m\n\u001b[1;32m     48\u001b[0m \n\u001b[1;32m     49\u001b[0m \u001b[38;5;66;03m# Import the DBAPI-2.0 stuff into top-level module.\u001b[39;00m\n\u001b[0;32m---> 51\u001b[0m \u001b[38;5;28;01mfrom\u001b[39;00m \u001b[38;5;21;01mpsycopg2\u001b[39;00m\u001b[38;5;21;01m.\u001b[39;00m\u001b[38;5;21;01m_psycopg\u001b[39;00m \u001b[38;5;28;01mimport\u001b[39;00m (                     \u001b[38;5;66;03m# noqa\u001b[39;00m\n\u001b[1;32m     52\u001b[0m     BINARY, NUMBER, STRING, DATETIME, ROWID,\n\u001b[1;32m     53\u001b[0m \n\u001b[1;32m     54\u001b[0m     Binary, Date, Time, Timestamp,\n\u001b[1;32m     55\u001b[0m     DateFromTicks, TimeFromTicks, TimestampFromTicks,\n\u001b[1;32m     56\u001b[0m \n\u001b[1;32m     57\u001b[0m     Error, \u001b[38;5;167;01mWarning\u001b[39;00m, DataError, DatabaseError, ProgrammingError, IntegrityError,\n\u001b[1;32m     58\u001b[0m     InterfaceError, InternalError, NotSupportedError, OperationalError,\n\u001b[1;32m     59\u001b[0m \n\u001b[1;32m     60\u001b[0m     _connect, apilevel, threadsafety, paramstyle,\n\u001b[1;32m     61\u001b[0m     __version__, __libpq_version__,\n\u001b[1;32m     62\u001b[0m )\n\u001b[1;32m     65\u001b[0m \u001b[38;5;66;03m# Register default adapters.\u001b[39;00m\n\u001b[1;32m     67\u001b[0m \u001b[38;5;28;01mfrom\u001b[39;00m \u001b[38;5;21;01mpsycopg2\u001b[39;00m \u001b[38;5;28;01mimport\u001b[39;00m extensions \u001b[38;5;28;01mas\u001b[39;00m _ext\n",
      "\u001b[0;31mImportError\u001b[0m: libpq.so.5: cannot open shared object file: No such file or directory"
     ]
    }
   ],
   "source": [
    "PATH = '/mnt/adaptiveness_vs_learning/runtime_eval/'\n",
    "import sys\n",
    "sys.path.append(PATH)\n",
    "from core.eval_Runtime import *"
   ]
  },
  {
   "cell_type": "code",
   "execution_count": null,
   "id": "238e25c9",
   "metadata": {},
   "outputs": [],
   "source": [
    "query_dirs = {\n",
    "    'imdb': '/mnt/adaptiveness_vs_learning/queries/job/'\n",
    "}\n",
    "\n",
    "job_slow_queries = [\n",
    "    '6d.sql', \n",
    "    '6f.sql', \n",
    "    '8c.sql', '9d.sql', \n",
    "    '10c.sql', \n",
    "    '16b.sql', \n",
    "    '17a.sql', '17b.sql',  \n",
    "    '17c.sql', \n",
    "    '17d.sql',  \n",
    "    '17e.sql', \n",
    "    '17f.sql',  \n",
    "    '18c.sql', '19c.sql', '19d.sql', \n",
    "    '20a.sql', \n",
    "    '25c.sql', '26c.sql', \n",
    "    '30a.sql'\n",
    "]\n",
    "\n",
    "all_JOB_queries = [\n",
    "    '30a.sql', '1d.sql', '25a.sql', '6b.sql', '19c.sql', '28b.sql', \n",
    "    '9b.sql', '33b.sql', '32a.sql', '27a.sql', '20b.sql', '17d.sql', \n",
    "    '16b.sql', '10b.sql', '6a.sql', '17b.sql', '25b.sql', '8b.sql', \n",
    "    '31b.sql', '33c.sql', '23a.sql', '15a.sql', '21b.sql', '11d.sql', \n",
    "    '9a.sql', '6d.sql', '24a.sql', '17e.sql', '19a.sql', '1c.sql', \n",
    "    '25c.sql', '31a.sql', '23c.sql', '17f.sql', '19b.sql', '9d.sql', \n",
    "    '27b.sql', '11b.sql', '7b.sql', '19d.sql', '1a.sql', '11c.sql', \n",
    "    '31c.sql', '28a.sql', '3c.sql', '6c.sql', '26b.sql', '16a.sql', \n",
    "    '7a.sql', '29b.sql', '29a.sql', '1b.sql', '6e.sql', '13d.sql', \n",
    "    '10c.sql', '26a.sql', '4b.sql', '10a.sql', '15b.sql', '15d.sql', \n",
    "    '26c.sql', '14b.sql', '15c.sql', '14c.sql', '13b.sql', '3a.sql', \n",
    "    '24b.sql', '5a.sql', '8c.sql', '6f.sql', '8a.sql', '27c.sql', \n",
    "    '12a.sql', '22a.sql', '17a.sql', '13a.sql', '21a.sql', '12b.sql', \n",
    "    '13c.sql', '8d.sql', '21c.sql', '7c.sql', '2a.sql', '3b.sql', \n",
    "    '16c.sql', '9c.sql', '32b.sql', '28c.sql', '33a.sql', '11a.sql', \n",
    "    '18a.sql', '5c.sql', '22d.sql', '18c.sql', '5b.sql', '2c.sql', \n",
    "    '16d.sql', '4a.sql', '22c.sql', '12c.sql', '29c.sql', '30b.sql', \n",
    "    '2d.sql', '14a.sql', '17c.sql', '22b.sql', '30c.sql', '20a.sql', \n",
    "    '20c.sql', '2b.sql', '4c.sql', '18b.sql', '23b.sql'\n",
    "]"
   ]
  },
  {
   "cell_type": "code",
   "execution_count": null,
   "id": "a73bab25",
   "metadata": {},
   "outputs": [],
   "source": []
  },
  {
   "cell_type": "markdown",
   "id": "43db3a22",
   "metadata": {},
   "source": [
    "## PG original"
   ]
  },
  {
   "cell_type": "code",
   "execution_count": null,
   "id": "3c28e9e8",
   "metadata": {
    "tags": []
   },
   "outputs": [],
   "source": [
    "engine_name = 'postgres'\n",
    "# db_name = 'imdb'\n",
    "db_name = 'imdbload'\n",
    "query_dir = query_dirs['imdb']\n",
    "\n",
    "pg_db = DB_instance(engine_name, db_name)\n",
    "pg_ev = Runtime_Evaluator(pg_db, query_dir)\n",
    "pg_ev.evaluate_queries(sql_dir=query_dir,\n",
    "                       sql_files=all_JOB_queries,\n",
    "                       save_json_file=f'./{engine_name}_parallel=1_{db_name}_runtimes.json', \n",
    "                      rerun_finished=False,\n",
    "                      disable_parallel=False,\n",
    "                      multiple_runs=5,\n",
    "                      save_plan=False)"
   ]
  },
  {
   "cell_type": "markdown",
   "id": "758809e3",
   "metadata": {},
   "source": [
    "# PG with LIP+AJA "
   ]
  },
  {
   "cell_type": "code",
   "execution_count": null,
   "id": "f9cf9641",
   "metadata": {},
   "outputs": [],
   "source": [
    "engine_name = 'postgres_pg_lip'\n",
    "db_name = 'imdbload'\n",
    "query_dir = '/mnt/adaptiveness_vs_learning/queries/job/LIP+AJA/job_slow/'\n",
    "init_sql_file= '/mnt/adaptiveness_vs_learning/queries/lip_bloom_init.sql'\n",
    "\n",
    "pg_db = DB_instance(engine_name, db_name)\n",
    "pg_ev = PG_LIP_Runtime_Evaluator(pg_db, query_dir, init_sql_file=init_sql_file)\n",
    "pg_ev.evaluate_queries(\n",
    "    sql_dir=query_dir,\n",
    "    save_json_file=f'./{engine_name}_LIP+AJA_{db_name}_runtimes.json', \n",
    "    sql_files=job_slow_queries,\n",
    "    rerun_finished=False,\n",
    "    multiple_runs=5, \n",
    "    save_plan=False\n",
    ")"
   ]
  },
  {
   "cell_type": "code",
   "execution_count": null,
   "id": "4f182e1c",
   "metadata": {},
   "outputs": [],
   "source": []
  }
 ],
 "metadata": {
  "kernelspec": {
   "display_name": "tableqa",
   "language": "python",
   "name": "your_kernel_name"
  },
  "language_info": {
   "codemirror_mode": {
    "name": "ipython",
    "version": 3
   },
   "file_extension": ".py",
   "mimetype": "text/x-python",
   "name": "python",
   "nbconvert_exporter": "python",
   "pygments_lexer": "ipython3",
   "version": "3.11.3"
  },
  "vscode": {
   "interpreter": {
    "hash": "7812ea015bdcee6f23a998adcdd2ef97c151c0c241b7b7070987d9313e41299d"
   }
  }
 },
 "nbformat": 4,
 "nbformat_minor": 5
}
